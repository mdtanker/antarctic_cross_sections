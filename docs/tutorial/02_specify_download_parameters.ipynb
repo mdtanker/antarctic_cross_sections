{
 "cells": [
  {
   "cell_type": "markdown",
   "metadata": {},
   "source": [
    "# Specify download parameters\n",
    "When fetching datasets with PolarToolkit, you can specify a variety of parameters. For gridded data for example you can subset a specific region of the grid to extract or resample the grid to a different resolution."
   ]
  },
  {
   "cell_type": "markdown",
   "metadata": {},
   "source": [
    "Import the `fetch`, `regions` and `utils` modules of PolarToolkit "
   ]
  },
  {
   "cell_type": "code",
   "execution_count": 1,
   "metadata": {
    "execution": {
     "iopub.execute_input": "2024-02-09T04:57:50.527990Z",
     "iopub.status.busy": "2024-02-09T04:57:50.527602Z",
     "iopub.status.idle": "2024-02-09T04:57:53.567711Z",
     "shell.execute_reply": "2024-02-09T04:57:53.566987Z"
    }
   },
   "outputs": [],
   "source": [
    "from polartoolkit import fetch, regions, utils"
   ]
  },
  {
   "cell_type": "markdown",
   "metadata": {},
   "source": [
    "Download some ice velocity data for Antarctica using default settings and print out some info about the grid. Since there is also ice velocity data available for Greenland, we need to specify which hemisphere we want the data for."
   ]
  },
  {
   "cell_type": "code",
   "execution_count": 2,
   "metadata": {
    "execution": {
     "iopub.execute_input": "2024-02-09T04:57:53.585584Z",
     "iopub.status.busy": "2024-02-09T04:57:53.585443Z",
     "iopub.status.idle": "2024-02-09T04:58:05.450220Z",
     "shell.execute_reply": "2024-02-09T04:58:05.449638Z"
    }
   },
   "outputs": [
    {
     "name": "stdout",
     "output_type": "stream",
     "text": [
      "grid spacing: 5000.0 m\n",
      "grid region: (-2800000.0, 2795000.0, -2795000.0, 2800000.0)\n",
      "grid zmin: 2.87566308543e-05\n",
      "grid zmax: 4201.68994141\n",
      "grid registration: g\n"
     ]
    }
   ],
   "source": [
    "grid = fetch.ice_vel(hemisphere=\"south\")\n",
    "_ = utils.get_grid_info(grid, print_info=True)"
   ]
  },
  {
   "cell_type": "markdown",
   "metadata": {},
   "source": [
    "Now lets do this again, but specify the parameters of the grid we would like. For example, we may want a finer resolution and a specify region, which we can specify with preset geographic regions in the `regions` module."
   ]
  },
  {
   "cell_type": "code",
   "execution_count": 3,
   "metadata": {},
   "outputs": [
    {
     "name": "stdout",
     "output_type": "stream",
     "text": [
      "grid spacing: 450.0 m\n",
      "grid region: (-1720350.0, -1479600.0, -380250.0, -69750.0)\n",
      "grid zmin: 0.0341334976256\n",
      "grid zmax: 4218.31591797\n",
      "grid registration: g\n"
     ]
    }
   ],
   "source": [
    "grid = fetch.ice_vel(\n",
    "    hemisphere=\"south\",\n",
    "    spacing=450,  # in meters\n",
    "    region=regions.pine_island_glacier,\n",
    "    verbose=\"q\",  # mute warnings about incompatible region and spacing\n",
    ")\n",
    "_ = utils.get_grid_info(grid, print_info=True)"
   ]
  },
  {
   "cell_type": "markdown",
   "metadata": {},
   "source": [
    "As you can we, the returned xarray dataarray is now at a smaller spacing and only has data for a subset region. "
   ]
  },
  {
   "cell_type": "markdown",
   "metadata": {},
   "source": []
  }
 ],
 "metadata": {
  "kernelspec": {
   "display_name": "Python 3",
   "language": "python",
   "name": "python3"
  },
  "language_info": {
   "codemirror_mode": {
    "name": "ipython",
    "version": 3
   },
   "file_extension": ".py",
   "mimetype": "text/x-python",
   "name": "python",
   "nbconvert_exporter": "python",
   "pygments_lexer": "ipython3",
   "version": "3.12.3"
  },
  "vscode": {
   "interpreter": {
    "hash": "67a058f5f8063e49e6f534918380c2705757fedf41a781746682a871c2022b06"
   }
  }
 },
 "nbformat": 4,
 "nbformat_minor": 2
}
