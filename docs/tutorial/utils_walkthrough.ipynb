{
 "cells": [
  {
   "cell_type": "markdown",
   "metadata": {},
   "source": [
    "# Examples of using the various functions in `Utils`"
   ]
  },
  {
   "cell_type": "code",
   "execution_count": null,
   "metadata": {
    "execution": {
     "iopub.execute_input": "2024-02-09T05:05:01.226004Z",
     "iopub.status.busy": "2024-02-09T05:05:01.225711Z",
     "iopub.status.idle": "2024-02-09T05:05:04.273606Z",
     "shell.execute_reply": "2024-02-09T05:05:04.273207Z"
    }
   },
   "outputs": [],
   "source": [
    "import os\n",
    "\n",
    "from polartoolkit import fetch, maps, regions, utils"
   ]
  },
  {
   "cell_type": "code",
   "execution_count": null,
   "metadata": {},
   "outputs": [],
   "source": [
    "# set default to southern hemisphere for this notebook\n",
    "os.environ[\"POLARTOOLKIT_HEMISPHERE\"] = \"south\""
   ]
  },
  {
   "cell_type": "markdown",
   "metadata": {},
   "source": [
    "## Coordinate conversions and formats"
   ]
  },
  {
   "cell_type": "markdown",
   "metadata": {},
   "source": [
    "Converting GMT region strings between meters in EPSG:3031 (for Antarctica) or EPSG:3413 (for the Arctic) and lat long "
   ]
  },
  {
   "cell_type": "code",
   "execution_count": null,
   "metadata": {
    "execution": {
     "iopub.execute_input": "2024-02-09T05:05:04.276811Z",
     "iopub.status.busy": "2024-02-09T05:05:04.276266Z",
     "iopub.status.idle": "2024-02-09T05:05:04.294045Z",
     "shell.execute_reply": "2024-02-09T05:05:04.293741Z"
    }
   },
   "outputs": [],
   "source": [
    "pig = regions.pine_island_glacier\n",
    "\n",
    "pig_latlon = utils.region_xy_to_ll(pig)\n",
    "\n",
    "print(pig)\n",
    "print(pig_latlon)"
   ]
  },
  {
   "cell_type": "code",
   "execution_count": null,
   "metadata": {
    "execution": {
     "iopub.execute_input": "2024-02-09T05:05:04.295640Z",
     "iopub.status.busy": "2024-02-09T05:05:04.295495Z",
     "iopub.status.idle": "2024-02-09T05:05:07.656107Z",
     "shell.execute_reply": "2024-02-09T05:05:07.655627Z"
    }
   },
   "outputs": [],
   "source": [
    "figure_region = regions.alter_region(regions.west_antarctica, zoom=600e3)\n",
    "\n",
    "fig = maps.plot_grd(\n",
    "    fetch.modis(),\n",
    "    modis=True,\n",
    "    region=figure_region,\n",
    ")\n",
    "\n",
    "fig.plot(\n",
    "    x=[pig[0], pig[0], pig[1], pig[1], pig[0]],\n",
    "    y=[pig[2], pig[3], pig[3], pig[2], pig[2]],\n",
    "    pen=\"4p,white\",\n",
    ")\n",
    "\n",
    "\n",
    "fig.plot(\n",
    "    projection=utils.set_proj(figure_region)[1],\n",
    "    region=(*figure_region, \"+ue\"),\n",
    "    x=[pig_latlon[0], pig_latlon[0], pig_latlon[1], pig_latlon[1], pig_latlon[0]],\n",
    "    y=[pig_latlon[2], pig_latlon[3], pig_latlon[3], pig_latlon[2], pig_latlon[2]],\n",
    "    pen=\"2p,red\",\n",
    ")\n",
    "\n",
    "fig.show()"
   ]
  },
  {
   "cell_type": "markdown",
   "metadata": {},
   "source": [
    "### Converting from GMT region strings to other formats"
   ]
  },
  {
   "cell_type": "code",
   "execution_count": null,
   "metadata": {
    "execution": {
     "iopub.execute_input": "2024-02-09T05:05:07.663675Z",
     "iopub.status.busy": "2024-02-09T05:05:07.663452Z",
     "iopub.status.idle": "2024-02-09T05:05:07.682219Z",
     "shell.execute_reply": "2024-02-09T05:05:07.681923Z"
    }
   },
   "outputs": [],
   "source": [
    "# region in meters in format [e, w, n, s]\n",
    "lis = regions.kangerlussuaq_glacier\n",
    "print(lis)\n",
    "\n",
    "# convert to decimal degrees\n",
    "lis_latlon = utils.region_xy_to_ll(lis, hemisphere=\"north\")\n",
    "print(lis_latlon)\n",
    "\n",
    "# switch order to [lower left lat, upper right long, uper right lat]\n",
    "lis_bb = utils.region_to_bounding_box(lis_latlon)\n",
    "print(lis_bb)"
   ]
  },
  {
   "cell_type": "markdown",
   "metadata": {},
   "source": [
    "### Convert between Polar Stereographic and WGS84 lat/lon"
   ]
  },
  {
   "cell_type": "code",
   "execution_count": null,
   "metadata": {
    "execution": {
     "iopub.execute_input": "2024-02-09T05:05:07.683753Z",
     "iopub.status.busy": "2024-02-09T05:05:07.683601Z",
     "iopub.status.idle": "2024-02-09T05:05:07.698068Z",
     "shell.execute_reply": "2024-02-09T05:05:07.697643Z"
    }
   },
   "outputs": [],
   "source": [
    "# get coordinates for center of Roosevelt Island\n",
    "RI = regions.roosevelt_island\n",
    "RI_center = [((RI[0] + RI[1]) / 2), ((RI[2] + RI[3]) / 2)]\n",
    "RI_center"
   ]
  },
  {
   "cell_type": "code",
   "execution_count": null,
   "metadata": {
    "execution": {
     "iopub.execute_input": "2024-02-09T05:05:07.699546Z",
     "iopub.status.busy": "2024-02-09T05:05:07.699405Z",
     "iopub.status.idle": "2024-02-09T05:05:07.718290Z",
     "shell.execute_reply": "2024-02-09T05:05:07.717872Z"
    }
   },
   "outputs": [],
   "source": [
    "# convert to lat lon\n",
    "RI_center_latlon = utils.epsg3031_to_latlon(RI_center)\n",
    "print(RI_center_latlon)\n",
    "\n",
    "# convert back to epsg 3031\n",
    "epsg = utils.latlon_to_epsg3031(RI_center_latlon)\n",
    "epsg"
   ]
  },
  {
   "cell_type": "code",
   "execution_count": null,
   "metadata": {
    "execution": {
     "iopub.execute_input": "2024-02-09T05:05:07.719735Z",
     "iopub.status.busy": "2024-02-09T05:05:07.719602Z",
     "iopub.status.idle": "2024-02-09T05:05:09.204067Z",
     "shell.execute_reply": "2024-02-09T05:05:09.203476Z"
    }
   },
   "outputs": [],
   "source": [
    "# plot on map\n",
    "fig = maps.plot_grd(\n",
    "    fetch.imagery(),\n",
    "    region=regions.roosevelt_island,\n",
    "    colorbar=False,\n",
    ")\n",
    "\n",
    "fig.plot(\n",
    "    x=RI_center[0],\n",
    "    y=RI_center[1],\n",
    "    style=\"c.6c\",\n",
    "    fill=\"black\",\n",
    ")\n",
    "fig.plot(\n",
    "    x=RI_center_latlon[1],\n",
    "    y=RI_center_latlon[0],\n",
    "    region=(*regions.roosevelt_island, \"+ue\"),\n",
    "    projection=utils.set_proj(regions.roosevelt_island)[1],\n",
    "    style=\"t.8c\",\n",
    "    pen=\"2p,red\",\n",
    ")\n",
    "fig.show()"
   ]
  },
  {
   "cell_type": "markdown",
   "metadata": {},
   "source": [
    "## Grid processes"
   ]
  },
  {
   "cell_type": "markdown",
   "metadata": {},
   "source": [
    "### Fit a trend to a grid and optionally remove it"
   ]
  },
  {
   "cell_type": "code",
   "execution_count": null,
   "metadata": {
    "execution": {
     "iopub.execute_input": "2024-02-09T05:05:09.207409Z",
     "iopub.status.busy": "2024-02-09T05:05:09.207218Z",
     "iopub.status.idle": "2024-02-09T05:05:22.755405Z",
     "shell.execute_reply": "2024-02-09T05:05:22.754405Z"
    }
   },
   "outputs": [],
   "source": [
    "# download\n",
    "ice_velocity = fetch.ice_vel(\n",
    "    region=regions.marie_byrd_land,\n",
    "    spacing=5e3,\n",
    ")\n",
    "\n",
    "# extract and detrend\n",
    "fit, detrend = utils.grd_trend(\n",
    "    ice_velocity,\n",
    "    deg=3,\n",
    "    plot=True,\n",
    ")"
   ]
  },
  {
   "cell_type": "markdown",
   "metadata": {},
   "source": [
    "### compare two different grids"
   ]
  },
  {
   "cell_type": "code",
   "execution_count": null,
   "metadata": {
    "execution": {
     "iopub.execute_input": "2024-02-09T05:05:22.761234Z",
     "iopub.status.busy": "2024-02-09T05:05:22.761081Z",
     "iopub.status.idle": "2024-02-09T05:06:04.818477Z",
     "shell.execute_reply": "2024-02-09T05:06:04.817541Z"
    }
   },
   "outputs": [],
   "source": [
    "# define a region of interest\n",
    "region = regions.pine_island_glacier\n",
    "\n",
    "# load the 2 grids to compare, at 1km resolution\n",
    "bedmachine = fetch.bedmachine(\n",
    "    layer=\"bed\",\n",
    "    spacing=1e3,\n",
    "    region=region,\n",
    ")\n",
    "bedmap = fetch.bedmap2(\n",
    "    layer=\"bed\",\n",
    "    spacing=1e3,\n",
    "    region=region,\n",
    ")\n",
    "\n",
    "# run the difference function and plot the results\n",
    "dif, grid1, grid2 = utils.grd_compare(\n",
    "    bedmachine,\n",
    "    bedmap,\n",
    "    plot=True,\n",
    "    coast=True,\n",
    "    grid1_name=\"BedMachine \",\n",
    "    grid2_name=\"Bedmap2\",\n",
    "    cbar_label=\"Bed elevation (m)\",\n",
    "    hist=True,\n",
    ")"
   ]
  },
  {
   "cell_type": "markdown",
   "metadata": {},
   "source": [
    "Lets say we're only interested in the region under the ice shelf (the closed black polygon). Higher or lower values outside of the ice shelf are skewing the color ramp. We can use a regional mask to set the colorscale's max and min values based on a shapefile. We'll define a shapefile for the island, and re-run the above code with the kwarg `shp_mask`."
   ]
  },
  {
   "cell_type": "code",
   "execution_count": null,
   "metadata": {
    "execution": {
     "iopub.execute_input": "2024-02-09T05:06:04.820675Z",
     "iopub.status.busy": "2024-02-09T05:06:04.820503Z",
     "iopub.status.idle": "2024-02-09T05:06:05.112580Z",
     "shell.execute_reply": "2024-02-09T05:06:05.112118Z"
    }
   },
   "outputs": [],
   "source": [
    "# load the grounding and coast line database\n",
    "import pyogrio\n",
    "\n",
    "shp = pyogrio.read_dataframe(fetch.groundingline())\n",
    "\n",
    "# subset only the ice shelf region for the mask. See the Fetch Walkthrough for the\n",
    "# groundingline ID classifications\n",
    "shp_mask = shp[shp.Id_text == \"Ice shelf\"]\n",
    "\n",
    "# view the mask area:\n",
    "utils.mask_from_shp(\n",
    "    shp_mask,\n",
    "    xr_grid=dif,\n",
    "    masked=True,\n",
    "    invert=False,\n",
    ").plot(robust=True)"
   ]
  },
  {
   "cell_type": "code",
   "execution_count": null,
   "metadata": {
    "execution": {
     "iopub.execute_input": "2024-02-09T05:06:05.114338Z",
     "iopub.status.busy": "2024-02-09T05:06:05.114226Z",
     "iopub.status.idle": "2024-02-09T05:06:19.801654Z",
     "shell.execute_reply": "2024-02-09T05:06:19.800938Z"
    },
    "tags": [
     "nbsphinx-thumbnail"
    ]
   },
   "outputs": [],
   "source": [
    "# re-run the difference function.\n",
    "# note how the color scale are now set to just the sub-ice-shelf regions.\n",
    "dif, grid1, grid2 = utils.grd_compare(\n",
    "    bedmachine,\n",
    "    bedmap,\n",
    "    plot=True,\n",
    "    coast=True,\n",
    "    grid1_name=\"BedMachine \",\n",
    "    grid2_name=\"Bedmap2\",\n",
    "    cbar_label=\"Bed elevation (m)\",\n",
    "    hist=True,\n",
    "    shp_mask=shp_mask,\n",
    ")"
   ]
  },
  {
   "cell_type": "markdown",
   "metadata": {},
   "source": [
    "### Interactively mask a grid"
   ]
  },
  {
   "cell_type": "code",
   "execution_count": null,
   "metadata": {
    "execution": {
     "iopub.execute_input": "2024-02-09T05:06:19.804882Z",
     "iopub.status.busy": "2024-02-09T05:06:19.804692Z",
     "iopub.status.idle": "2024-02-09T05:06:19.835970Z",
     "shell.execute_reply": "2024-02-09T05:06:19.835417Z"
    }
   },
   "outputs": [],
   "source": [
    "polygon = regions.draw_region(\n",
    "    points=utils.region_to_df(region),  # plot corners of region\n",
    ")"
   ]
  },
  {
   "cell_type": "code",
   "execution_count": null,
   "metadata": {
    "execution": {
     "iopub.execute_input": "2024-02-09T05:06:19.837513Z",
     "iopub.status.busy": "2024-02-09T05:06:19.837394Z",
     "iopub.status.idle": "2024-02-09T05:06:20.290480Z",
     "shell.execute_reply": "2024-02-09T05:06:20.289766Z"
    }
   },
   "outputs": [],
   "source": [
    "masked = utils.mask_from_polygon(polygon, grid=bedmap)\n",
    "\n",
    "# show results in a plot\n",
    "fig = maps.subplots(\n",
    "    [bedmap, masked],\n",
    "    region=regions.pine_island_glacier,\n",
    "    coast=True,\n",
    "    inset=True,\n",
    "    fig_title=\"Interactively mask a grid\",\n",
    "    cbar_labels=[\"unmasked bed elevation\", \"masked bed elevation\"],\n",
    "    cbar_units=[\"m\", \"m\"],\n",
    ")\n",
    "\n",
    "fig.show()"
   ]
  },
  {
   "cell_type": "markdown",
   "metadata": {},
   "source": [
    "### radially averaged power spectrum"
   ]
  },
  {
   "cell_type": "code",
   "execution_count": null,
   "metadata": {
    "execution": {
     "iopub.execute_input": "2024-02-09T05:06:20.292511Z",
     "iopub.status.busy": "2024-02-09T05:06:20.292388Z",
     "iopub.status.idle": "2024-02-09T05:06:20.306378Z",
     "shell.execute_reply": "2024-02-09T05:06:20.306024Z"
    }
   },
   "outputs": [],
   "source": [
    "# coming soon"
   ]
  },
  {
   "cell_type": "markdown",
   "metadata": {},
   "source": [
    "### coherency between 2 grids"
   ]
  },
  {
   "cell_type": "code",
   "execution_count": null,
   "metadata": {
    "execution": {
     "iopub.execute_input": "2024-02-09T05:06:20.308319Z",
     "iopub.status.busy": "2024-02-09T05:06:20.308069Z",
     "iopub.status.idle": "2024-02-09T05:06:20.322930Z",
     "shell.execute_reply": "2024-02-09T05:06:20.322511Z"
    }
   },
   "outputs": [],
   "source": [
    "# coming soon"
   ]
  }
 ],
 "metadata": {
  "kernelspec": {
   "display_name": "Python 3",
   "language": "python",
   "name": "python3"
  },
  "language_info": {
   "codemirror_mode": {
    "name": "ipython",
    "version": 3
   },
   "file_extension": ".py",
   "mimetype": "text/x-python",
   "name": "python",
   "nbconvert_exporter": "python",
   "pygments_lexer": "ipython3",
   "version": "3.12.3"
  },
  "vscode": {
   "interpreter": {
    "hash": "67a058f5f8063e49e6f534918380c2705757fedf41a781746682a871c2022b06"
   }
  },
  "widgets": {
   "application/vnd.jupyter.widget-state+json": {
    "state": {
     "36c07bc732c2429f8090d9b3242f1d32": {
      "model_module": "@jupyter-widgets/base",
      "model_module_version": "2.0.0",
      "model_name": "LayoutModel",
      "state": {
       "_model_module": "@jupyter-widgets/base",
       "_model_module_version": "2.0.0",
       "_model_name": "LayoutModel",
       "_view_count": null,
       "_view_module": "@jupyter-widgets/base",
       "_view_module_version": "2.0.0",
       "_view_name": "LayoutView",
       "align_content": null,
       "align_items": null,
       "align_self": null,
       "border_bottom": null,
       "border_left": null,
       "border_right": null,
       "border_top": null,
       "bottom": null,
       "display": null,
       "flex": null,
       "flex_flow": null,
       "grid_area": null,
       "grid_auto_columns": null,
       "grid_auto_flow": null,
       "grid_auto_rows": null,
       "grid_column": null,
       "grid_gap": null,
       "grid_row": null,
       "grid_template_areas": null,
       "grid_template_columns": null,
       "grid_template_rows": null,
       "height": null,
       "justify_content": null,
       "justify_items": null,
       "left": null,
       "margin": null,
       "max_height": null,
       "max_width": null,
       "min_height": null,
       "min_width": null,
       "object_fit": null,
       "object_position": null,
       "order": null,
       "overflow": null,
       "padding": null,
       "right": null,
       "top": null,
       "visibility": null,
       "width": "auto"
      }
     },
     "3c2ffae5b7d74b5485f8051b85811db6": {
      "model_module": "jupyter-leaflet",
      "model_module_version": "^0.18",
      "model_name": "LeafletDrawControlModel",
      "state": {
       "_model_module": "jupyter-leaflet",
       "_model_module_version": "^0.18",
       "_model_name": "LeafletDrawControlModel",
       "_view_count": null,
       "_view_module": "jupyter-leaflet",
       "_view_module_version": "^0.18",
       "_view_name": "LeafletDrawControlView",
       "circle": {},
       "circlemarker": {},
       "data": [],
       "edit": true,
       "marker": {},
       "options": [
        "position"
       ],
       "polygon": {
        "shapeOptions": {
         "color": "#fca45d",
         "fillColor": "#fca45d",
         "fillOpacity": 0.5
        }
       },
       "polyline": {},
       "position": "topleft",
       "rectangle": {},
       "remove": true
      }
     },
     "4a92261f98764e10850985e501842f6a": {
      "model_module": "jupyter-leaflet",
      "model_module_version": "^0.18",
      "model_name": "LeafletTileLayerModel",
      "state": {
       "_model_module": "jupyter-leaflet",
       "_model_module_version": "^0.18",
       "_model_name": "LeafletTileLayerModel",
       "_view_count": null,
       "_view_module": "jupyter-leaflet",
       "_view_module_version": "^0.18",
       "_view_name": "LeafletTileLayerView",
       "attribution": "Imagery provided by services from the Global Imagery Browse Services (GIBS), operated by the NASA/GSFC/Earth Science Data and Information System (<a href=\"https://earthdata.nasa.gov\">ESDIS</a>) with funding provided by NASA/HQ.",
       "base": true,
       "bottom": true,
       "bounds": null,
       "detect_retina": false,
       "loading": false,
       "max_native_zoom": null,
       "max_zoom": 5,
       "min_native_zoom": null,
       "min_zoom": 1,
       "name": "NASAGIBS.BlueMarble3031",
       "no_wrap": false,
       "opacity": 1,
       "options": [
        "attribution",
        "bounds",
        "detect_retina",
        "max_native_zoom",
        "max_zoom",
        "min_native_zoom",
        "min_zoom",
        "no_wrap",
        "tile_size",
        "tms",
        "zoom_offset"
       ],
       "pane": "",
       "popup": null,
       "popup_max_height": null,
       "popup_max_width": 300,
       "popup_min_width": 50,
       "show_loading": false,
       "subitems": [],
       "tile_size": 256,
       "tms": false,
       "url": "https://gibs.earthdata.nasa.gov/wmts/epsg3031/best/BlueMarble_NextGeneration/default/EPSG3031_500m/{z}/{y}/{x}.jpeg",
       "visible": true,
       "zoom_offset": 0
      }
     },
     "627dd6cd8e4249ceb34e599bb80ea833": {
      "model_module": "jupyter-leaflet",
      "model_module_version": "^0.18",
      "model_name": "LeafletZoomControlModel",
      "state": {
       "_model_module": "jupyter-leaflet",
       "_model_module_version": "^0.18",
       "_model_name": "LeafletZoomControlModel",
       "_view_count": null,
       "_view_module": "jupyter-leaflet",
       "_view_module_version": "^0.18",
       "_view_name": "LeafletZoomControlView",
       "options": [
        "position",
        "zoom_in_text",
        "zoom_in_title",
        "zoom_out_text",
        "zoom_out_title"
       ],
       "position": "topleft",
       "zoom_in_text": "+",
       "zoom_in_title": "Zoom in",
       "zoom_out_text": "-",
       "zoom_out_title": "Zoom out"
      }
     },
     "7140760ac474414cb0ed039d4c056950": {
      "model_module": "@jupyter-widgets/controls",
      "model_module_version": "2.0.0",
      "model_name": "LabelStyleModel",
      "state": {
       "_model_module": "@jupyter-widgets/controls",
       "_model_module_version": "2.0.0",
       "_model_name": "LabelStyleModel",
       "_view_count": null,
       "_view_module": "@jupyter-widgets/base",
       "_view_module_version": "2.0.0",
       "_view_name": "StyleView",
       "background": null,
       "description_width": "",
       "font_family": null,
       "font_size": null,
       "font_style": null,
       "font_variant": null,
       "font_weight": null,
       "text_color": null,
       "text_decoration": null
      }
     },
     "73a288d595044f4581958f0af5a536b1": {
      "model_module": "jupyter-leaflet",
      "model_module_version": "^0.18",
      "model_name": "LeafletMapModel",
      "state": {
       "_dom_classes": [],
       "_model_module": "jupyter-leaflet",
       "_model_module_version": "^0.18",
       "_model_name": "LeafletMapModel",
       "_view_count": null,
       "_view_module": "jupyter-leaflet",
       "_view_module_version": "^0.18",
       "_view_name": "LeafletMapView",
       "bottom": 0,
       "bounce_at_zoom_limits": true,
       "box_zoom": true,
       "center": [
        -75.1282216924775,
        -97.58308196293557
       ],
       "close_popup_on_click": true,
       "controls": [
        "IPY_MODEL_627dd6cd8e4249ceb34e599bb80ea833",
        "IPY_MODEL_c88c64050b0e4fd29ad88912d5b6cb09",
        "IPY_MODEL_3c2ffae5b7d74b5485f8051b85811db6"
       ],
       "crs": {
        "bounds": [
         [
          -4194304,
          -4194304
         ],
         [
          4194304,
          4194304
         ]
        ],
        "custom": true,
        "name": "EPSG:3031",
        "origin": [
         -4194304,
         4194304
        ],
        "proj4def": "+proj=stere +lat_0=-90 +lat_ts=-71 +lon_0=0 +k=1\n                +x_0=0 +y_0=0 +datum=WGS84 +units=m +no_defs",
        "resolutions": [
         16384,
         8192,
         4096,
         2048,
         1024,
         512,
         256
        ]
       },
       "default_style": "IPY_MODEL_83662598136641b0850b785f52d62174",
       "double_click_zoom": true,
       "dragging": true,
       "dragging_style": "IPY_MODEL_d1de0b1f52504768ad0813d7a0387736",
       "east": 0,
       "fullscreen": false,
       "inertia": true,
       "inertia_deceleration": 3000,
       "inertia_max_speed": 1500,
       "interpolation": "bilinear",
       "keyboard": true,
       "keyboard_pan_offset": 80,
       "keyboard_zoom_offset": 1,
       "layers": [
        "IPY_MODEL_4a92261f98764e10850985e501842f6a",
        "IPY_MODEL_ed7ec42ee2f94a61a31c1cf5a7df07e8"
       ],
       "layout": "IPY_MODEL_36c07bc732c2429f8090d9b3242f1d32",
       "left": 9007199254740991,
       "max_zoom": null,
       "min_zoom": null,
       "modisdate": "2024-02-07",
       "north": 0,
       "options": [
        "bounce_at_zoom_limits",
        "box_zoom",
        "center",
        "close_popup_on_click",
        "double_click_zoom",
        "dragging",
        "fullscreen",
        "inertia",
        "inertia_deceleration",
        "inertia_max_speed",
        "interpolation",
        "keyboard",
        "keyboard_pan_offset",
        "keyboard_zoom_offset",
        "max_zoom",
        "min_zoom",
        "prefer_canvas",
        "scroll_wheel_zoom",
        "tap",
        "tap_tolerance",
        "touch_zoom",
        "world_copy_jump",
        "zoom",
        "zoom_animation_threshold",
        "zoom_delta",
        "zoom_snap"
       ],
       "panes": {},
       "prefer_canvas": false,
       "right": 0,
       "scroll_wheel_zoom": false,
       "south": 0,
       "style": "IPY_MODEL_824486b36f8d4188ad4e4387adec5c43",
       "tabbable": null,
       "tap": true,
       "tap_tolerance": 15,
       "tooltip": null,
       "top": 9007199254740991,
       "touch_zoom": true,
       "west": 0,
       "window_url": "",
       "world_copy_jump": false,
       "zoom": 0,
       "zoom_animation_threshold": 4,
       "zoom_delta": 1,
       "zoom_snap": 1
      }
     },
     "824486b36f8d4188ad4e4387adec5c43": {
      "model_module": "jupyter-leaflet",
      "model_module_version": "^0.18",
      "model_name": "LeafletMapStyleModel",
      "state": {
       "_model_module": "jupyter-leaflet",
       "_model_module_version": "^0.18",
       "_model_name": "LeafletMapStyleModel",
       "_view_count": null,
       "_view_module": "@jupyter-widgets/base",
       "_view_module_version": "2.0.0",
       "_view_name": "StyleView",
       "cursor": "grab"
      }
     },
     "83662598136641b0850b785f52d62174": {
      "model_module": "jupyter-leaflet",
      "model_module_version": "^0.18",
      "model_name": "LeafletMapStyleModel",
      "state": {
       "_model_module": "jupyter-leaflet",
       "_model_module_version": "^0.18",
       "_model_name": "LeafletMapStyleModel",
       "_view_count": null,
       "_view_module": "@jupyter-widgets/base",
       "_view_module_version": "2.0.0",
       "_view_name": "StyleView",
       "cursor": "crosshair"
      }
     },
     "85a5d86cfe2b4275b94715cbed2d7a96": {
      "model_module": "@jupyter-widgets/controls",
      "model_module_version": "2.0.0",
      "model_name": "LabelModel",
      "state": {
       "_dom_classes": [],
       "_model_module": "@jupyter-widgets/controls",
       "_model_module_version": "2.0.0",
       "_model_name": "LabelModel",
       "_view_count": null,
       "_view_module": "@jupyter-widgets/controls",
       "_view_module_version": "2.0.0",
       "_view_name": "LabelView",
       "description": "",
       "description_allow_html": false,
       "layout": "IPY_MODEL_99ba43cbf2df437d984a5ba817c24aef",
       "placeholder": "​",
       "style": "IPY_MODEL_7140760ac474414cb0ed039d4c056950",
       "tabbable": null,
       "tooltip": null,
       "value": ""
      }
     },
     "87a9d005df254bd7ad2f5e92554670bc": {
      "model_module": "jupyter-leaflet",
      "model_module_version": "^0.18",
      "model_name": "LeafletMapStyleModel",
      "state": {
       "_model_module": "jupyter-leaflet",
       "_model_module_version": "^0.18",
       "_model_name": "LeafletMapStyleModel",
       "_view_count": null,
       "_view_module": "@jupyter-widgets/base",
       "_view_module_version": "2.0.0",
       "_view_name": "StyleView",
       "cursor": "grab"
      }
     },
     "99ba43cbf2df437d984a5ba817c24aef": {
      "model_module": "@jupyter-widgets/base",
      "model_module_version": "2.0.0",
      "model_name": "LayoutModel",
      "state": {
       "_model_module": "@jupyter-widgets/base",
       "_model_module_version": "2.0.0",
       "_model_name": "LayoutModel",
       "_view_count": null,
       "_view_module": "@jupyter-widgets/base",
       "_view_module_version": "2.0.0",
       "_view_name": "LayoutView",
       "align_content": null,
       "align_items": null,
       "align_self": null,
       "border_bottom": null,
       "border_left": null,
       "border_right": null,
       "border_top": null,
       "bottom": null,
       "display": null,
       "flex": null,
       "flex_flow": null,
       "grid_area": null,
       "grid_auto_columns": null,
       "grid_auto_flow": null,
       "grid_auto_rows": null,
       "grid_column": null,
       "grid_gap": null,
       "grid_row": null,
       "grid_template_areas": null,
       "grid_template_columns": null,
       "grid_template_rows": null,
       "height": null,
       "justify_content": null,
       "justify_items": null,
       "left": null,
       "margin": null,
       "max_height": null,
       "max_width": null,
       "min_height": null,
       "min_width": null,
       "object_fit": null,
       "object_position": null,
       "order": null,
       "overflow": null,
       "padding": null,
       "right": null,
       "top": null,
       "visibility": null,
       "width": null
      }
     },
     "c88c64050b0e4fd29ad88912d5b6cb09": {
      "model_module": "jupyter-leaflet",
      "model_module_version": "^0.18",
      "model_name": "LeafletAttributionControlModel",
      "state": {
       "_model_module": "jupyter-leaflet",
       "_model_module_version": "^0.18",
       "_model_name": "LeafletAttributionControlModel",
       "_view_count": null,
       "_view_module": "jupyter-leaflet",
       "_view_module_version": "^0.18",
       "_view_name": "LeafletAttributionControlView",
       "options": [
        "position",
        "prefix"
       ],
       "position": "bottomright",
       "prefix": "ipyleaflet"
      }
     },
     "d1de0b1f52504768ad0813d7a0387736": {
      "model_module": "jupyter-leaflet",
      "model_module_version": "^0.18",
      "model_name": "LeafletMapStyleModel",
      "state": {
       "_model_module": "jupyter-leaflet",
       "_model_module_version": "^0.18",
       "_model_name": "LeafletMapStyleModel",
       "_view_count": null,
       "_view_module": "@jupyter-widgets/base",
       "_view_module_version": "2.0.0",
       "_view_name": "StyleView",
       "cursor": "move"
      }
     },
     "ed7ec42ee2f94a61a31c1cf5a7df07e8": {
      "model_module": "jupyter-leaflet",
      "model_module_version": "^0.18",
      "model_name": "LeafletGeoJSONModel",
      "state": {
       "_model_module": "jupyter-leaflet",
       "_model_module_version": "^0.18",
       "_model_name": "LeafletGeoJSONModel",
       "_view_count": null,
       "_view_module": "jupyter-leaflet",
       "_view_module_version": "^0.18",
       "_view_name": "LeafletGeoJSONView",
       "base": false,
       "bottom": false,
       "data": {
        "features": [
         {
          "geometry": {
           "coordinates": [
            -102.4582464400049,
            -73.8906485263336
           ],
           "type": "Point"
          },
          "id": "0",
          "properties": {
           "lat": -73.8906485263336,
           "lon": -102.4582464400049,
           "x": -1720000,
           "y": -380000
          },
          "type": "Feature"
         },
         {
          "geometry": {
           "coordinates": [
            -104.40002130679105,
            -76.00396230866059
           ],
           "type": "Point"
          },
          "id": "1",
          "properties": {
           "lat": -76.00396230866059,
           "lon": -104.40002130679105,
           "x": -1480000,
           "y": -380000
          },
          "type": "Feature"
         },
         {
          "geometry": {
           "coordinates": [
            -92.33051886797894,
            -74.25248107629439
           ],
           "type": "Point"
          },
          "id": "2",
          "properties": {
           "lat": -74.25248107629439,
           "lon": -92.33051886797894,
           "x": -1720000,
           "y": -70000
          },
          "type": "Feature"
         },
         {
          "geometry": {
           "coordinates": [
            -92.7079174858662,
            -76.42465660818513
           ],
           "type": "Point"
          },
          "id": "3",
          "properties": {
           "lat": -76.42465660818513,
           "lon": -92.7079174858662,
           "x": -1480000,
           "y": -70000
          },
          "type": "Feature"
         }
        ],
        "type": "FeatureCollection"
       },
       "hover_style": {},
       "layers": [],
       "name": "",
       "options": [],
       "pane": "",
       "point_style": {
        "color": "red",
        "radius": 1,
        "weight": 1
       },
       "popup": null,
       "popup_max_height": null,
       "popup_max_width": 300,
       "popup_min_width": 50,
       "style": {},
       "subitems": [],
       "visible": true
      }
     }
    },
    "version_major": 2,
    "version_minor": 0
   }
  }
 },
 "nbformat": 4,
 "nbformat_minor": 2
}
