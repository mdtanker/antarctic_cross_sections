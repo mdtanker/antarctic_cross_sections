{
 "cells": [
  {
   "cell_type": "markdown",
   "metadata": {},
   "source": [
    "# Switch between hemispheres\n",
    "\n",
    "Many functions within PolarToolkit require knowing whether its working with data in the EPSG 3031 project for Antarctica or the EPSG 3413 projection for the Arctic(including Greenland). These function each have a parameter `hemisphere` which can be set to either `south` or `north` for EPSG 3031 or EPSG 3413, respectively. However, for convenience, there are two other methods than manually setting the `hemisphere` variable, as well show here. "
   ]
  },
  {
   "cell_type": "code",
   "execution_count": 1,
   "metadata": {
    "execution": {
     "iopub.execute_input": "2024-02-09T04:57:50.527990Z",
     "iopub.status.busy": "2024-02-09T04:57:50.527602Z",
     "iopub.status.idle": "2024-02-09T04:57:53.567711Z",
     "shell.execute_reply": "2024-02-09T04:57:53.566987Z"
    }
   },
   "outputs": [],
   "source": [
    "from polartoolkit import fetch, maps"
   ]
  },
  {
   "cell_type": "markdown",
   "metadata": {},
   "source": [
    "## Manually set the hemisphere variable \n",
    "For any function which requires knowing it's projection, you can manually set it with the `hemisphere` variable. For example, ice velocity data is available for both Greenland and Antarctica, so you can pass `hemisphere` to pick which version of the grid is returned."
   ]
  },
  {
   "cell_type": "code",
   "execution_count": 2,
   "metadata": {
    "execution": {
     "iopub.execute_input": "2024-02-09T04:58:27.578150Z",
     "iopub.status.busy": "2024-02-09T04:58:27.577962Z",
     "iopub.status.idle": "2024-02-09T04:58:45.812115Z",
     "shell.execute_reply": "2024-02-09T04:58:45.811381Z"
    }
   },
   "outputs": [],
   "source": [
    "grid = fetch.ice_vel(\n",
    "    hemisphere=\"south\",\n",
    ")\n",
    "\n",
    "fig = maps.plot_grd(\n",
    "    grid,\n",
    "    hemisphere=\"south\",\n",
    ")"
   ]
  },
  {
   "cell_type": "markdown",
   "metadata": {},
   "source": [
    "## Temporarily set for Python session\n",
    "If you know everything in your notebook or python file will be related to just one of the hemisphere, you can set a temporary environment variable for your current python session. This can be overwritten by the above manual setting of `hemisphere`."
   ]
  },
  {
   "cell_type": "code",
   "execution_count": 3,
   "metadata": {},
   "outputs": [],
   "source": [
    "import os\n",
    "\n",
    "os.environ[\"POLARTOOLKIT_HEMISPHERE\"] = \"north\""
   ]
  },
  {
   "cell_type": "markdown",
   "metadata": {},
   "source": [
    "## Permanently set\n",
    "If you know you will be using PolarToolkit almost entirely for just one of the hemispheres, it makes sense to use an environment variable in your operating system to set the value of hemisphere. If you need to temporarily switch to the other hemisphere, either of the above two options can be used to overwrite the environment variable temporarily. \n",
    "\n",
    "The name you need to give the environment variable is \"POLARTOOLKIT_HEMISPHERE\" with a value of either \"north\" or \"south\". This is done different on each operating system. \n",
    "\n",
    "For Unix or Mac OS, add the following to the end of your `.bashrc` file (Unix) or `.bash_profile` (Mac OS):\n",
    "```\n",
    "export POLARTOOLKIT_HEMISPHERE=north\n",
    "```\n",
    "You may need to restart your computer for this to take effect. \n",
    "\n",
    "For Windows, follow the below instructions:\n",
    "\n",
    "* Launch \"Control Panel\"\n",
    "* Go to \"System\" -> \"Advanced system settings\" -> \"Advanced\" tab -> \"Environment variables\" -> \"System Variables\" (for all users)\n",
    "* Choose \"New\"\n",
    "* Enter the variable \"Name\" as POLARTOOLKIT_HEMISPHERE and \"Value\" either north or south.\n"
   ]
  },
  {
   "cell_type": "code",
   "execution_count": null,
   "metadata": {},
   "outputs": [],
   "source": []
  }
 ],
 "metadata": {
  "kernelspec": {
   "display_name": "Python 3",
   "language": "python",
   "name": "python3"
  },
  "language_info": {
   "codemirror_mode": {
    "name": "ipython",
    "version": 3
   },
   "file_extension": ".py",
   "mimetype": "text/x-python",
   "name": "python",
   "nbconvert_exporter": "python",
   "pygments_lexer": "ipython3",
   "version": "3.11.9"
  },
  "vscode": {
   "interpreter": {
    "hash": "67a058f5f8063e49e6f534918380c2705757fedf41a781746682a871c2022b06"
   }
  }
 },
 "nbformat": 4,
 "nbformat_minor": 2
}
