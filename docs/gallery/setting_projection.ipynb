{
 "cells": [
  {
   "cell_type": "markdown",
   "metadata": {},
   "source": [
    "# Define figure projection\n",
    "Here we should the most minimal use of `PolarToolkit`. This example just creates a projection in EPSG:3031, based on a region and figure height (or width). The rest of the example uses standard PyGMT calls."
   ]
  },
  {
   "cell_type": "markdown",
   "metadata": {},
   "source": [
    "Import the packages"
   ]
  },
  {
   "cell_type": "code",
   "execution_count": null,
   "metadata": {
    "execution": {
     "iopub.execute_input": "2024-02-09T04:55:20.528963Z",
     "iopub.status.busy": "2024-02-09T04:55:20.528188Z",
     "iopub.status.idle": "2024-02-09T04:55:23.581013Z",
     "shell.execute_reply": "2024-02-09T04:55:23.580307Z"
    }
   },
   "outputs": [],
   "source": [
    "%%capture\n",
    "%load_ext autoreload\n",
    "%autoreload 2\n",
    "\n",
    "# set Python's logging level to get information\n",
    "import logging\n",
    "\n",
    "import pygmt\n",
    "\n",
    "from polartoolkit import fetch, maps, utils\n",
    "\n",
    "logging.getLogger().setLevel(logging.INFO)"
   ]
  },
  {
   "cell_type": "markdown",
   "metadata": {},
   "source": [
    "Define a region for the plot"
   ]
  },
  {
   "cell_type": "code",
   "execution_count": null,
   "metadata": {
    "execution": {
     "iopub.execute_input": "2024-02-09T04:55:23.583108Z",
     "iopub.status.busy": "2024-02-09T04:55:23.582926Z",
     "iopub.status.idle": "2024-02-09T04:55:23.597100Z",
     "shell.execute_reply": "2024-02-09T04:55:23.596774Z"
    }
   },
   "outputs": [],
   "source": [
    "# Options:\n",
    "\n",
    "# 1) use the full extent of the grid file\n",
    "# region = utils.get_grid_info(bed)[1]\n",
    "\n",
    "# 2) use a preset region (polartoolkitgions())\n",
    "# region = regions.antarctic_peninsula\n",
    "\n",
    "# 3) define your own region, in meters e, w, n, s in EPSG 3031 (for Antarctica) or\n",
    "# EPSG 3413 (for the Arctic)\n",
    "\n",
    "region = (-2700e3, -2000e3, 1000e3, 2000e3)\n",
    "\n",
    "print(f\"region: {region}\")"
   ]
  },
  {
   "cell_type": "markdown",
   "metadata": {},
   "source": [
    "Fetch the data to plot"
   ]
  },
  {
   "cell_type": "code",
   "execution_count": null,
   "metadata": {
    "execution": {
     "iopub.execute_input": "2024-02-09T04:55:23.598762Z",
     "iopub.status.busy": "2024-02-09T04:55:23.598575Z",
     "iopub.status.idle": "2024-02-09T04:55:52.496849Z",
     "shell.execute_reply": "2024-02-09T04:55:52.496467Z"
    }
   },
   "outputs": [],
   "source": [
    "bed = fetch.bedmap2(layer=\"bed\", region=region)\n",
    "bed"
   ]
  },
  {
   "cell_type": "markdown",
   "metadata": {},
   "source": [
    "Create a projection from the region and a figure height"
   ]
  },
  {
   "cell_type": "code",
   "execution_count": null,
   "metadata": {
    "execution": {
     "iopub.execute_input": "2024-02-09T04:55:52.498652Z",
     "iopub.status.busy": "2024-02-09T04:55:52.498499Z",
     "iopub.status.idle": "2024-02-09T04:55:52.512186Z",
     "shell.execute_reply": "2024-02-09T04:55:52.511763Z"
    }
   },
   "outputs": [],
   "source": [
    "proj_xy = utils.set_proj(region, hemisphere=\"south\", fig_height=15)[0]"
   ]
  },
  {
   "cell_type": "markdown",
   "metadata": {},
   "source": [
    "Use standard PyGMT commands to plot a figure"
   ]
  },
  {
   "cell_type": "code",
   "execution_count": null,
   "metadata": {
    "execution": {
     "iopub.execute_input": "2024-02-09T04:55:52.514060Z",
     "iopub.status.busy": "2024-02-09T04:55:52.513802Z",
     "iopub.status.idle": "2024-02-09T04:55:53.162665Z",
     "shell.execute_reply": "2024-02-09T04:55:53.161757Z"
    },
    "tags": []
   },
   "outputs": [],
   "source": [
    "fig = pygmt.Figure()\n",
    "\n",
    "fig.grdimage(\n",
    "    grid=bed,\n",
    "    cmap=\"globe\",\n",
    "    projection=proj_xy,\n",
    "    region=region,\n",
    "    frame=True,\n",
    "    nan_transparent=True,\n",
    ")\n",
    "\n",
    "# display the figure\n",
    "fig.show()"
   ]
  },
  {
   "cell_type": "code",
   "execution_count": null,
   "metadata": {
    "execution": {
     "iopub.execute_input": "2024-02-09T04:55:53.168034Z",
     "iopub.status.busy": "2024-02-09T04:55:53.167894Z",
     "iopub.status.idle": "2024-02-09T04:55:53.704199Z",
     "shell.execute_reply": "2024-02-09T04:55:53.703702Z"
    }
   },
   "outputs": [],
   "source": [
    "# display colorbar 2/3 as wide as figure\n",
    "\n",
    "fig.colorbar(\n",
    "    cmap=True,\n",
    "    position=f\"jBC+w{utils.get_fig_width()*(2/3)}c/.5c+jTC+h+o0c/.6c+e\",\n",
    "    frame=\"xaf+lBedmap2 bed (m)\",\n",
    ")\n",
    "\n",
    "fig.show()"
   ]
  },
  {
   "cell_type": "markdown",
   "metadata": {},
   "source": [
    "You can also create the projection by giving a figure width instead of height"
   ]
  },
  {
   "cell_type": "code",
   "execution_count": null,
   "metadata": {
    "execution": {
     "iopub.execute_input": "2024-02-09T04:55:53.707859Z",
     "iopub.status.busy": "2024-02-09T04:55:53.707740Z",
     "iopub.status.idle": "2024-02-09T04:55:54.300141Z",
     "shell.execute_reply": "2024-02-09T04:55:54.299751Z"
    }
   },
   "outputs": [],
   "source": [
    "proj_xy = utils.set_proj(region, hemisphere=\"south\", fig_width=15)[0]\n",
    "\n",
    "# use standard PyGMT commands to plot figure\n",
    "fig = pygmt.Figure()\n",
    "\n",
    "# create a custom colarmap\n",
    "pygmt.makecpt(\n",
    "    cmap=\"globe\",\n",
    "    series=\"-4500/2500/250\",  # 250m increments between -4.5 and +2.5 km.\n",
    ")\n",
    "\n",
    "fig.grdimage(\n",
    "    grid=bed,\n",
    "    cmap=True,\n",
    "    projection=proj_xy,\n",
    "    region=region,\n",
    "    frame=True,\n",
    "    nan_transparent=True,\n",
    ")\n",
    "\n",
    "# display the figure\n",
    "fig.show()"
   ]
  },
  {
   "cell_type": "markdown",
   "metadata": {},
   "source": [
    "You can switch between standard PyGMT commands and PolarToolkit commands. \n",
    "Here, on the same figure instance, we'll add:\n",
    "* a colorbar with a histogram\n",
    "* an inset location map\n",
    "* the Antarctic coastline and groundingline"
   ]
  },
  {
   "cell_type": "code",
   "execution_count": null,
   "metadata": {
    "execution": {
     "iopub.execute_input": "2024-02-09T04:55:54.302915Z",
     "iopub.status.busy": "2024-02-09T04:55:54.302705Z",
     "iopub.status.idle": "2024-02-09T04:56:01.540329Z",
     "shell.execute_reply": "2024-02-09T04:56:01.539604Z"
    }
   },
   "outputs": [],
   "source": [
    "maps.add_coast(fig, pen=\"1p,red\", hemisphere=\"south\")\n",
    "\n",
    "maps.add_inset(fig, inset_width=0.4, inset_box_pen=\"2p,green\", hemisphere=\"south\")\n",
    "\n",
    "maps.add_colorbar(\n",
    "    fig,\n",
    "    cbar_label=\"Bedmap2 bed elevation\",\n",
    "    cbar_unit=\"m\",\n",
    "    hist=True,\n",
    "    cpt_lims=(-4500, 2500),\n",
    "    grid=bed,\n",
    "    region=region,\n",
    "    hist_bin_width=250,  # set this to the cmap interval to match hist bins to cmap bins\n",
    "    # hist_bin_num=20, # use this instead to set the number of bins\n",
    ")\n",
    "\n",
    "fig.show()"
   ]
  },
  {
   "cell_type": "code",
   "execution_count": null,
   "metadata": {},
   "outputs": [],
   "source": []
  }
 ],
 "metadata": {
  "kernelspec": {
   "display_name": "Python 3",
   "language": "python",
   "name": "python3"
  },
  "language_info": {
   "codemirror_mode": {
    "name": "ipython",
    "version": 3
   },
   "file_extension": ".py",
   "mimetype": "text/x-python",
   "name": "python",
   "nbconvert_exporter": "python",
   "pygments_lexer": "ipython3",
   "version": "3.12.3"
  },
  "vscode": {
   "interpreter": {
    "hash": "67a058f5f8063e49e6f534918380c2705757fedf41a781746682a871c2022b06"
   }
  }
 },
 "nbformat": 4,
 "nbformat_minor": 2
}
