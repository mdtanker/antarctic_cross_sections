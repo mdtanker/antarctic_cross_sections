{
 "cells": [
  {
   "cell_type": "markdown",
   "metadata": {},
   "source": [
    "# Mask grids with shapefiles"
   ]
  },
  {
   "cell_type": "code",
   "execution_count": null,
   "metadata": {
    "execution": {
     "iopub.execute_input": "2024-02-09T04:53:41.751571Z",
     "iopub.status.busy": "2024-02-09T04:53:41.751230Z",
     "iopub.status.idle": "2024-02-09T04:53:44.842777Z",
     "shell.execute_reply": "2024-02-09T04:53:44.842235Z"
    }
   },
   "outputs": [],
   "source": [
    "%%capture\n",
    "%load_ext autoreload\n",
    "%autoreload 2\n",
    "\n",
    "import os\n",
    "\n",
    "import pyogrio\n",
    "\n",
    "from polartoolkit import fetch, maps, utils"
   ]
  },
  {
   "cell_type": "code",
   "execution_count": null,
   "metadata": {},
   "outputs": [],
   "source": [
    "# set default to northern hemisphere for this notebook\n",
    "os.environ[\"POLARTOOLKIT_HEMISPHERE\"] = \"north\""
   ]
  },
  {
   "cell_type": "code",
   "execution_count": null,
   "metadata": {
    "execution": {
     "iopub.execute_input": "2024-02-09T04:53:44.844797Z",
     "iopub.status.busy": "2024-02-09T04:53:44.844611Z",
     "iopub.status.idle": "2024-02-09T04:54:03.972971Z",
     "shell.execute_reply": "2024-02-09T04:54:03.972269Z"
    }
   },
   "outputs": [],
   "source": [
    "# fetch a grid\n",
    "grid = fetch.bedmachine(\n",
    "    layer=\"surface\",\n",
    ")\n",
    "\n",
    "# fetch a shapefile\n",
    "shapefile = fetch.groundingline(version=\"BAS\")\n",
    "# load the shapefile\n",
    "groundingline = pyogrio.read_dataframe(shapefile)"
   ]
  },
  {
   "cell_type": "code",
   "execution_count": null,
   "metadata": {
    "execution": {
     "iopub.execute_input": "2024-02-09T04:54:03.974790Z",
     "iopub.status.busy": "2024-02-09T04:54:03.974673Z",
     "iopub.status.idle": "2024-02-09T04:54:05.668710Z",
     "shell.execute_reply": "2024-02-09T04:54:05.668343Z"
    }
   },
   "outputs": [],
   "source": [
    "# plot the grid\n",
    "fig = maps.plot_grd(\n",
    "    grid,\n",
    "    title=\"Unmasked\",\n",
    "    cbar_label=\"Bedmachine surface elevation\",\n",
    "    cbar_unit=\"m\",\n",
    ")\n",
    "\n",
    "# plot the shapefile\n",
    "fig.plot(groundingline, pen=\".8p,red\")\n",
    "\n",
    "# show the plot\n",
    "fig.show()"
   ]
  },
  {
   "cell_type": "code",
   "execution_count": null,
   "metadata": {
    "execution": {
     "iopub.execute_input": "2024-02-09T04:54:05.671871Z",
     "iopub.status.busy": "2024-02-09T04:54:05.671660Z",
     "iopub.status.idle": "2024-02-09T04:54:08.474459Z",
     "shell.execute_reply": "2024-02-09T04:54:08.474134Z"
    }
   },
   "outputs": [],
   "source": [
    "# mask the inside region\n",
    "masked_inside = utils.mask_from_shp(\n",
    "    shapefile=groundingline,\n",
    "    xr_grid=grid,\n",
    "    masked=True,\n",
    ")\n",
    "\n",
    "# mask the outside region\n",
    "masked_outside = utils.mask_from_shp(\n",
    "    shapefile=groundingline,\n",
    "    xr_grid=grid,\n",
    "    masked=True,\n",
    "    invert=False,\n",
    ")\n",
    "\n",
    "# plot the inside-masked grid\n",
    "fig = maps.plot_grd(\n",
    "    masked_inside,\n",
    "    title=\"Masked inside\",\n",
    "    cbar_label=\"Bedmachine surface elevation\",\n",
    "    cbar_unit=\"m\",\n",
    "    # region=regions.greenland,\n",
    ")\n",
    "# plot the shapefile\n",
    "fig.plot(groundingline, pen=\".8p,red\")\n",
    "\n",
    "# plot the outside-masked grid\n",
    "fig = maps.plot_grd(\n",
    "    masked_outside,\n",
    "    title=\"Masked outside\",\n",
    "    cbar_label=\"Bedmachine surface elevation\",\n",
    "    cbar_unit=\"m\",\n",
    "    fig=fig,\n",
    "    origin_shift=\"x\",\n",
    ")\n",
    "# plot the shapefile\n",
    "fig.plot(groundingline, pen=\".8p,red\")\n",
    "\n",
    "\n",
    "# show the plot\n",
    "fig.show()"
   ]
  },
  {
   "cell_type": "markdown",
   "metadata": {},
   "source": [
    "## Make custom shapefile in QGIS\n",
    "\n",
    "QGIS, especially with the [Quantarctica package](https://www.npolar.no/quantarctica/#toggle-id-2), is an easy way to make a custom shapefile. This can then be used with `polartoolkit` to sample data along the file.\n",
    "\n",
    "To make the shapefile in QGIS:\n",
    "*  Layer -> Create Layer -> New Shapefile Layer\n",
    "* For `Geometry Type`, select `Polygon`\n",
    "* Select `EPSG:3031` for the coordinate reference system\n",
    "* Save to the same directory as your python file you want to work with."
   ]
  },
  {
   "cell_type": "code",
   "execution_count": null,
   "metadata": {},
   "outputs": [],
   "source": []
  }
 ],
 "metadata": {
  "kernelspec": {
   "display_name": "Python 3",
   "language": "python",
   "name": "python3"
  },
  "language_info": {
   "codemirror_mode": {
    "name": "ipython",
    "version": 3
   },
   "file_extension": ".py",
   "mimetype": "text/x-python",
   "name": "python",
   "nbconvert_exporter": "python",
   "pygments_lexer": "ipython3",
   "version": "3.12.3"
  },
  "vscode": {
   "interpreter": {
    "hash": "67a058f5f8063e49e6f534918380c2705757fedf41a781746682a871c2022b06"
   }
  }
 },
 "nbformat": 4,
 "nbformat_minor": 2
}
